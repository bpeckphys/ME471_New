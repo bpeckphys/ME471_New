{
 "cells": [
  {
   "cell_type": "markdown",
   "metadata": {},
   "source": [
    "# Homework 3 - Problem 3"
   ]
  },
  {
   "cell_type": "code",
   "execution_count": 1,
   "metadata": {},
   "outputs": [],
   "source": [
    "%matplotlib inline\n",
    "import numpy as np\n",
    "import matplotlib.pyplot as plt\n",
    "import pandas as pd\n",
    "import subprocess"
   ]
  },
  {
   "cell_type": "markdown",
   "metadata": {},
   "source": [
    "# Part (a)"
   ]
  },
  {
   "cell_type": "code",
   "execution_count": 2,
   "metadata": {},
   "outputs": [
    {
     "name": "stdout",
     "output_type": "stream",
     "text": [
      "32\n",
      "64\n",
      "128\n",
      "256\n",
      "512\n",
      "1024\n",
      "2048\n",
      "4096\n",
      "8192\n",
      "16384\n",
      "32768\n",
      "65536\n"
     ]
    }
   ],
   "source": [
    "ns = [2**p for p in range(5,17)]\n",
    "for n in ns:\n",
    "    print(n)\n",
    "    cmd = 'mpirun -n 1 hmwk3_3c -n ' + str(n) + ' --itermax 100000 --tol 1e-10'\n",
    "    f = open('hmwk3_3cN' + str(n) + '.csv','w')\n",
    "    process = subprocess.call(cmd.split(), stdout=f)\n",
    "    f.close()"
   ]
  },
  {
   "cell_type": "code",
   "execution_count": 3,
   "metadata": {},
   "outputs": [
    {
     "name": "stdout",
     "output_type": "stream",
     "text": [
      "             N  iterations      residual         error\n",
      "32        32.0        16.0  1.559657e-14  4.815273e-03\n",
      "64        64.0        32.0  4.599381e-14  1.204544e-03\n",
      "128      128.0        64.0  7.503626e-14  3.011813e-04\n",
      "256      256.0       128.0  1.107838e-13  7.529816e-05\n",
      "512      512.0       256.0  1.418360e-13  1.882472e-05\n",
      "1024    1024.0       512.0  4.231900e-13  4.706190e-06\n",
      "2048    2048.0      1024.0  8.855576e-13  1.176548e-06\n",
      "4096    4096.0      2048.0  2.240577e-12  2.941371e-07\n",
      "8192    8192.0      4096.0  3.413523e-12  7.353428e-08\n",
      "16384  16384.0      8192.0  6.141856e-12  1.838358e-08\n",
      "32768  32768.0     16383.0  6.789233e-11  4.596604e-09\n",
      "65536  65536.0     32767.0  1.697155e-11  1.149986e-09\n"
     ]
    },
    {
     "data": {
      "text/plain": [
       "<matplotlib.axes._subplots.AxesSubplot at 0x7f7d135b86d8>"
      ]
     },
     "execution_count": 3,
     "metadata": {},
     "output_type": "execute_result"
    },
    {
     "data": {
      "image/png": "[encoded data removed]",
      "text/plain": [
       "<matplotlib.figure.Figure at 0x7f7d13c0eac8>"
      ]
     },
     "metadata": {},
     "output_type": "display_data"
    }
   ],
   "source": [
    "data = {}\n",
    "columns = ['N', 'iterations', 'residual', 'error']\n",
    "df = pd.DataFrame(columns=columns)\n",
    "for n in [2**p for p in range(5,17)]:    \n",
    "    A = np.genfromtxt('hmwk3_3cN' + str(n) + '.csv', delimiter=',')\n",
    "    iterations = A[-3]\n",
    "    residual = A[-2]\n",
    "    error = A[-1]\n",
    "    A = A[:-3]\n",
    "    cells = len(A)\n",
    "    h = 1/cells\n",
    "    x = np.linspace(0+h/2,1-h/2,len(A))\n",
    "    \n",
    "    data_row = {'N': (n), 'iterations': iterations, 'residual': residual, 'error':error}\n",
    "    df = df.append(pd.Series(data=data_row, name=str(n)))\n",
    "print(df)\n",
    "df.plot(x='N', y='error', loglog=True, style='bo-')"
   ]
  },
  {
   "cell_type": "markdown",
   "metadata": {},
   "source": [
    "# Part (b)"
   ]
  },
  {
   "cell_type": "code",
   "execution_count": 4,
   "metadata": {},
   "outputs": [
    {
     "name": "stdout",
     "output_type": "stream",
     "text": [
      "1\n",
      "2\n",
      "4\n"
     ]
    }
   ],
   "source": [
    "ps = [1,2,4]\n",
    "for p in ps:\n",
    "    print(p)\n",
    "    cmd = 'mpirun -n ' + str(p) + ' hmwk3_3c -n 65536 --itermax 100000 --tol 1e-10'\n",
    "    f = open('hmwk3_3cp' + str(p) + '.csv','w')\n",
    "    process = subprocess.call(cmd.split(), stdout=f)\n",
    "    f.close()"
   ]
  },
  {
   "cell_type": "code",
   "execution_count": 5,
   "metadata": {},
   "outputs": [
    {
     "name": "stdout",
     "output_type": "stream",
     "text": [
      "   Processes  iterations      residual         error\n",
      "1        1.0     32767.0  1.697154e-11  1.150236e-09\n",
      "2        2.0     32767.0  1.697154e-11  1.150236e-09\n",
      "4        4.0     32767.0  1.697154e-11  1.150236e-09\n"
     ]
    }
   ],
   "source": [
    "data = {}\n",
    "columns = ['Processes', 'iterations', 'residual', 'error']\n",
    "df = pd.DataFrame(columns=columns)\n",
    "for n in [1,2,4]:    \n",
    "    A = np.genfromtxt('hmwk3_3cp' + str(p) +'.csv', delimiter=',')\n",
    "    iterations = A[-3]\n",
    "    residual = A[-2]\n",
    "    error = A[-1]\n",
    "    A = A[:-3]\n",
    "    \n",
    "    \n",
    "    data_row = {'Processes': n, 'iterations': iterations, 'residual': residual, 'error':error}\n",
    "    df = df.append(pd.Series(data=data_row, name=str(n)))\n",
    "print(df)"
   ]
  },
  {
   "cell_type": "code",
   "execution_count": null,
   "metadata": {},
   "outputs": [],
   "source": []
  }
 ],
 "metadata": {
  "kernelspec": {
   "display_name": "Python 3",
   "language": "python",
   "name": "python3"
  },
  "language_info": {
   "codemirror_mode": {
    "name": "ipython",
    "version": 3
   },
   "file_extension": ".py",
   "mimetype": "text/x-python",
   "name": "python",
   "nbconvert_exporter": "python",
   "pygments_lexer": "ipython3",
   "version": "3.6.4"
  }
 },
 "nbformat": 4,
 "nbformat_minor": 2
}
